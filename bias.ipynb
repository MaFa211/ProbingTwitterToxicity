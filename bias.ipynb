{
  "cells": [
    {
      "cell_type": "code",
      "execution_count": 1,
      "metadata": {
        "id": "XvLIZpeDBvec"
      },
      "outputs": [
        {
          "name": "stderr",
          "output_type": "stream",
          "text": [
            "/home/mats/.local/lib/python3.11/site-packages/tqdm/auto.py:21: TqdmWarning: IProgress not found. Please update jupyter and ipywidgets. See https://ipywidgets.readthedocs.io/en/stable/user_install.html\n",
            "  from .autonotebook import tqdm as notebook_tqdm\n",
            "2023-09-03 12:21:06.438618: I tensorflow/core/util/port.cc:110] oneDNN custom operations are on. You may see slightly different numerical results due to floating-point round-off errors from different computation orders. To turn them off, set the environment variable `TF_ENABLE_ONEDNN_OPTS=0`.\n",
            "2023-09-03 12:21:06.538648: I tensorflow/tsl/cuda/cudart_stub.cc:28] Could not find cuda drivers on your machine, GPU will not be used.\n",
            "2023-09-03 12:21:06.684541: I tensorflow/tsl/cuda/cudart_stub.cc:28] Could not find cuda drivers on your machine, GPU will not be used.\n",
            "2023-09-03 12:21:06.685060: I tensorflow/core/platform/cpu_feature_guard.cc:182] This TensorFlow binary is optimized to use available CPU instructions in performance-critical operations.\n",
            "To enable the following instructions: AVX2 AVX512F AVX512_VNNI FMA, in other operations, rebuild TensorFlow with the appropriate compiler flags.\n",
            "2023-09-03 12:21:07.778397: W tensorflow/compiler/tf2tensorrt/utils/py_utils.cc:38] TF-TRT Warning: Could not find TensorRT\n"
          ]
        }
      ],
      "source": [
        "import pandas as pd\n",
        "from transformers import AutoTokenizer, AutoModel, AutoConfig\n",
        "import tensorflow as tf\n",
        "import torch\n",
        "import tensorflow as tf\n",
        "import numpy as np\n",
        "import re\n",
        "from sklearn.metrics.pairwise import cosine_similarity\n",
        "import itertools as it"
      ]
    },
    {
      "cell_type": "code",
      "execution_count": 2,
      "metadata": {
        "colab": {
          "base_uri": "https://localhost:8080/",
          "height": 243,
          "referenced_widgets": [
            "f90e8cf8aab34cb68de44b7a7a7301ef",
            "76417d3ff2a04a238e6512df03d364ef",
            "addf9a6cad1a416da003d16da5e5acfe",
            "b8e7f279f0fe4552b10e75ae54f8a771",
            "d35e5e7262f54484a0a6911a7c7401a2",
            "ddfbaf3961e7402cbb47f1f0cfeb77d4",
            "ade0f93ede594725b8b17e49cce02158",
            "dd53b16983da48069008bebd383353b3",
            "aa97d7abdeba4963b4b01cdfe9379a88",
            "fb3a2d17c0ee403589a7bb53ed7fc509",
            "e08b206684434165b862af76ba87ea24",
            "de1122773dd644498f277f16f8b2cce7",
            "df6fd47bb669446ab1707f3589edae41",
            "219075c6df2f4a00b9f86128517954ed",
            "42ef49462fc145a8849eb18f7f31b367",
            "bc66296078b94c318e5b21d496922423",
            "8eba1fc9a34e4cafb19150784c607d18",
            "9b35ebb1afae40979c48fa452e4b3d18",
            "8f12e6eb00b34fa29ac70b97fcb02c9f",
            "f26304bd7ef64822b29d0c303741f7d4",
            "9b5eed16d9be4e449363167a2214e2d4",
            "4c9201433d624793b54965d70a13b4c8",
            "c02775819d014388b80301d1df2614a6",
            "6ff9d065914e4463af3b2ccc3fba4b04",
            "538773486e8940ebaa879f29df5f1785",
            "9cffa4e8f13146ffabb44b42e7723003",
            "b1f11e9657504156b1a56d2ec3130aee",
            "d4d789ca741a49f2bc036f2bdb8057e2",
            "b9acc380be3746879e07a2e4c8a5949e",
            "dc31acc73b994302a25e68b9db97984e",
            "4bc90587bffa4448a3936db8db0552aa",
            "f5ae0b8bdf384751bf135515ea0b1338",
            "4b529ae116964f5ea2704ec3943c63c8"
          ]
        },
        "id": "3pFEP4k9ESer",
        "outputId": "3364264b-95f4-4bdd-dcaf-1421ca16117b"
      },
      "outputs": [
        {
          "name": "stderr",
          "output_type": "stream",
          "text": [
            "All TF 2.0 model weights were used when initializing RobertaModel.\n",
            "\n",
            "All the weights of RobertaModel were initialized from the TF 2.0 model.\n",
            "If your task is similar to the task the model of the checkpoint was trained on, you can already use RobertaModel for predictions without further training.\n",
            "emoji is not installed, thus not converting emoticons or emojis into text. Install emoji: pip3 install emoji==0.6.0\n",
            "Special tokens have been added in the vocabulary, make sure the associated word embeddings are fine-tuned or trained.\n"
          ]
        }
      ],
      "source": [
        "config = AutoConfig.from_pretrained(\"model/\")\n",
        "model = AutoModel.from_pretrained(\"model/\", config=config, from_tf=True)\n",
        "tokenizer = AutoTokenizer.from_pretrained(\"vinai/bertweet-base\", return_tensors=\"tf\")\n"
      ]
    },
    {
      "cell_type": "code",
      "execution_count": 3,
      "metadata": {
        "colab": {
          "base_uri": "https://localhost:8080/"
        },
        "id": "2YOQtpnBdOPU",
        "outputId": "2bd48b6d-87ef-4e7b-fd60-93d52c10f7fa"
      },
      "outputs": [
        {
          "data": {
            "text/plain": [
              "RobertaModel(\n",
              "  (embeddings): RobertaEmbeddings(\n",
              "    (word_embeddings): Embedding(64001, 768, padding_idx=1)\n",
              "    (position_embeddings): Embedding(130, 768, padding_idx=1)\n",
              "    (token_type_embeddings): Embedding(1, 768)\n",
              "    (LayerNorm): LayerNorm((768,), eps=1e-05, elementwise_affine=True)\n",
              "    (dropout): Dropout(p=0.1, inplace=False)\n",
              "  )\n",
              "  (encoder): RobertaEncoder(\n",
              "    (layer): ModuleList(\n",
              "      (0-11): 12 x RobertaLayer(\n",
              "        (attention): RobertaAttention(\n",
              "          (self): RobertaSelfAttention(\n",
              "            (query): Linear(in_features=768, out_features=768, bias=True)\n",
              "            (key): Linear(in_features=768, out_features=768, bias=True)\n",
              "            (value): Linear(in_features=768, out_features=768, bias=True)\n",
              "            (dropout): Dropout(p=0.1, inplace=False)\n",
              "          )\n",
              "          (output): RobertaSelfOutput(\n",
              "            (dense): Linear(in_features=768, out_features=768, bias=True)\n",
              "            (LayerNorm): LayerNorm((768,), eps=1e-05, elementwise_affine=True)\n",
              "            (dropout): Dropout(p=0.1, inplace=False)\n",
              "          )\n",
              "        )\n",
              "        (intermediate): RobertaIntermediate(\n",
              "          (dense): Linear(in_features=768, out_features=3072, bias=True)\n",
              "          (intermediate_act_fn): GELUActivation()\n",
              "        )\n",
              "        (output): RobertaOutput(\n",
              "          (dense): Linear(in_features=3072, out_features=768, bias=True)\n",
              "          (LayerNorm): LayerNorm((768,), eps=1e-05, elementwise_affine=True)\n",
              "          (dropout): Dropout(p=0.1, inplace=False)\n",
              "        )\n",
              "      )\n",
              "    )\n",
              "  )\n",
              "  (pooler): RobertaPooler(\n",
              "    (dense): Linear(in_features=768, out_features=768, bias=True)\n",
              "    (activation): Tanh()\n",
              "  )\n",
              ")"
            ]
          },
          "execution_count": 3,
          "metadata": {},
          "output_type": "execute_result"
        }
      ],
      "source": [
        "model.eval()"
      ]
    },
    {
      "cell_type": "code",
      "execution_count": 4,
      "metadata": {
        "id": "aniWl5aARazz"
      },
      "outputs": [],
      "source": [
        "names = pd.read_csv('data/names.csv').iloc[:5,:]\n",
        "tweets = pd.read_csv('data/toxicity_en.csv')"
      ]
    },
    {
      "cell_type": "code",
      "execution_count": 5,
      "metadata": {
        "id": "InscClQjh7yR"
      },
      "outputs": [],
      "source": [
        "# Twitter removes mentions in their preprocessing. However, for constructing the examples, I want to remove the mentions as well.\n",
        "mention_re = re.compile(r\"(\\B@\\S+)\", re.IGNORECASE)\n",
        "tweets['clean_text'] = [mention_re.sub(\"MENTION\", tweet) for tweet in tweets['text']]"
      ]
    },
    {
      "cell_type": "code",
      "execution_count": 6,
      "metadata": {
        "id": "DLQanQC4miHx"
      },
      "outputs": [],
      "source": [
        "check_names = names['Republicans'].to_list()\n",
        "check_names.extend(names['Democrats'].to_list())\n",
        "check_names_split = [x.split(\" \")[-1] for x in check_names]\n",
        "check_names_split.append('Democrat')\n",
        "check_names_split.append('Republican')\n",
        "check_names_lower = [x.lower() for x in check_names_split]"
      ]
    },
    {
      "cell_type": "code",
      "execution_count": 7,
      "metadata": {
        "id": "dBpkSDUm60-Y"
      },
      "outputs": [],
      "source": [
        "names_check = []\n",
        "for tweet in tweets['text']:\n",
        "  if any(name in tweet.lower() for name in check_names_lower):\n",
        "    names_check.append(False)\n",
        "  else:\n",
        "    names_check.append(True)"
      ]
    },
    {
      "cell_type": "code",
      "execution_count": 8,
      "metadata": {
        "colab": {
          "base_uri": "https://localhost:8080/"
        },
        "id": "qpHfq2SA98Z1",
        "outputId": "a42e2430-9702-41b5-cfde-dac17a6940d0"
      },
      "outputs": [
        {
          "data": {
            "text/html": [
              "<div>\n",
              "<style scoped>\n",
              "    .dataframe tbody tr th:only-of-type {\n",
              "        vertical-align: middle;\n",
              "    }\n",
              "\n",
              "    .dataframe tbody tr th {\n",
              "        vertical-align: top;\n",
              "    }\n",
              "\n",
              "    .dataframe thead th {\n",
              "        text-align: right;\n",
              "    }\n",
              "</style>\n",
              "<table border=\"1\" class=\"dataframe\">\n",
              "  <thead>\n",
              "    <tr style=\"text-align: right;\">\n",
              "      <th></th>\n",
              "      <th>text</th>\n",
              "      <th>is_toxic</th>\n",
              "      <th>clean_text</th>\n",
              "    </tr>\n",
              "  </thead>\n",
              "  <tbody>\n",
              "    <tr>\n",
              "      <th>0</th>\n",
              "      <td>Elon Musk is a piece of shit, greedy capitalis...</td>\n",
              "      <td>Toxic</td>\n",
              "      <td>Elon Musk is a piece of shit, greedy capitalis...</td>\n",
              "    </tr>\n",
              "    <tr>\n",
              "      <th>1</th>\n",
              "      <td>The senile credit card shrill from Delaware ne...</td>\n",
              "      <td>Toxic</td>\n",
              "      <td>The senile credit card shrill from Delaware ne...</td>\n",
              "    </tr>\n",
              "    <tr>\n",
              "      <th>2</th>\n",
              "      <td>He does that a lot -- makes everyone look good...</td>\n",
              "      <td>Toxic</td>\n",
              "      <td>He does that a lot -- makes everyone look good...</td>\n",
              "    </tr>\n",
              "    <tr>\n",
              "      <th>3</th>\n",
              "      <td>F*ck Lizzo</td>\n",
              "      <td>Toxic</td>\n",
              "      <td>F*ck Lizzo</td>\n",
              "    </tr>\n",
              "    <tr>\n",
              "      <th>4</th>\n",
              "      <td>Epstein and trump were best buds!!! Pedophiles...</td>\n",
              "      <td>Toxic</td>\n",
              "      <td>Epstein and trump were best buds!!! Pedophiles...</td>\n",
              "    </tr>\n",
              "    <tr>\n",
              "      <th>...</th>\n",
              "      <td>...</td>\n",
              "      <td>...</td>\n",
              "      <td>...</td>\n",
              "    </tr>\n",
              "    <tr>\n",
              "      <th>995</th>\n",
              "      <td>My maternal abuelita taught me how to make pla...</td>\n",
              "      <td>Not Toxic</td>\n",
              "      <td>My maternal abuelita taught me how to make pla...</td>\n",
              "    </tr>\n",
              "    <tr>\n",
              "      <th>996</th>\n",
              "      <td>Funnily enough I was looking online last week ...</td>\n",
              "      <td>Not Toxic</td>\n",
              "      <td>Funnily enough I was looking online last week ...</td>\n",
              "    </tr>\n",
              "    <tr>\n",
              "      <th>997</th>\n",
              "      <td>I can't bear how nice this is.\\n \\n I guess it...</td>\n",
              "      <td>Not Toxic</td>\n",
              "      <td>I can't bear how nice this is.\\n \\n I guess it...</td>\n",
              "    </tr>\n",
              "    <tr>\n",
              "      <th>998</th>\n",
              "      <td>Going to buy a share of Tesla just to ensure i...</td>\n",
              "      <td>Not Toxic</td>\n",
              "      <td>Going to buy a share of Tesla just to ensure i...</td>\n",
              "    </tr>\n",
              "    <tr>\n",
              "      <th>999</th>\n",
              "      <td>I only saw a couple of these throughout the mo...</td>\n",
              "      <td>Not Toxic</td>\n",
              "      <td>I only saw a couple of these throughout the mo...</td>\n",
              "    </tr>\n",
              "  </tbody>\n",
              "</table>\n",
              "<p>1000 rows × 3 columns</p>\n",
              "</div>"
            ],
            "text/plain": [
              "                                                  text   is_toxic  \\\n",
              "0    Elon Musk is a piece of shit, greedy capitalis...      Toxic   \n",
              "1    The senile credit card shrill from Delaware ne...      Toxic   \n",
              "2    He does that a lot -- makes everyone look good...      Toxic   \n",
              "3                                           F*ck Lizzo      Toxic   \n",
              "4    Epstein and trump were best buds!!! Pedophiles...      Toxic   \n",
              "..                                                 ...        ...   \n",
              "995  My maternal abuelita taught me how to make pla...  Not Toxic   \n",
              "996  Funnily enough I was looking online last week ...  Not Toxic   \n",
              "997  I can't bear how nice this is.\\n \\n I guess it...  Not Toxic   \n",
              "998  Going to buy a share of Tesla just to ensure i...  Not Toxic   \n",
              "999  I only saw a couple of these throughout the mo...  Not Toxic   \n",
              "\n",
              "                                            clean_text  \n",
              "0    Elon Musk is a piece of shit, greedy capitalis...  \n",
              "1    The senile credit card shrill from Delaware ne...  \n",
              "2    He does that a lot -- makes everyone look good...  \n",
              "3                                           F*ck Lizzo  \n",
              "4    Epstein and trump were best buds!!! Pedophiles...  \n",
              "..                                                 ...  \n",
              "995  My maternal abuelita taught me how to make pla...  \n",
              "996  Funnily enough I was looking online last week ...  \n",
              "997  I can't bear how nice this is.\\n \\n I guess it...  \n",
              "998  Going to buy a share of Tesla just to ensure i...  \n",
              "999  I only saw a couple of these throughout the mo...  \n",
              "\n",
              "[1000 rows x 3 columns]"
            ]
          },
          "execution_count": 8,
          "metadata": {},
          "output_type": "execute_result"
        }
      ],
      "source": [
        "tweets"
      ]
    },
    {
      "cell_type": "code",
      "execution_count": 9,
      "metadata": {
        "id": "67HjYl0f6aBC"
      },
      "outputs": [],
      "source": [
        "tweets['name_flag'] = names_check\n",
        "tweets = tweets[tweets['name_flag'] == True]"
      ]
    },
    {
      "cell_type": "code",
      "execution_count": 10,
      "metadata": {
        "colab": {
          "base_uri": "https://localhost:8080/"
        },
        "id": "8mBtqPm2-DVL",
        "outputId": "75a9c7ca-e6d4-47a4-d8d1-8fa28d9f7a18"
      },
      "outputs": [
        {
          "data": {
            "text/plain": [
              "(871, 4)"
            ]
          },
          "execution_count": 10,
          "metadata": {},
          "output_type": "execute_result"
        }
      ],
      "source": [
        "tweets.shape"
      ]
    },
    {
      "cell_type": "code",
      "execution_count": 11,
      "metadata": {
        "id": "XRjtlgflh7yS"
      },
      "outputs": [],
      "source": [
        "target = 'I am NAME'"
      ]
    },
    {
      "cell_type": "code",
      "execution_count": 12,
      "metadata": {
        "id": "h1DhSZ7vh7yS"
      },
      "outputs": [],
      "source": [
        "democrat = [target.replace('NAME', name) for name in names['Democrats']]\n",
        "republican = [target.replace('NAME', name) for name in names['Republicans']]\n",
        "neutral = [target.replace('NAME', name) for name in names['Neutral']]"
      ]
    },
    {
      "cell_type": "code",
      "execution_count": 13,
      "metadata": {
        "id": "AMaPxx6nh7yS"
      },
      "outputs": [],
      "source": [
        "toxic_tweets = tweets['clean_text'][tweets['is_toxic']=='Toxic'].sample(n=100, random_state=2).tolist()\n",
        "non_toxic_tweets = tweets['clean_text'][tweets['is_toxic']=='Not Toxic'].sample(n=100, random_state=2).tolist()"
      ]
    },
    {
      "cell_type": "code",
      "execution_count": 14,
      "metadata": {
        "id": "MtR2-KPhh7yT"
      },
      "outputs": [],
      "source": [
        "def get_pooled_output(example: str):\n",
        "  with torch.no_grad():\n",
        "    array = model(**tokenizer(example, return_tensors='pt',padding=True, truncation=True), output_hidden_states=True).pooler_output\n",
        "    return array.cpu().detach().numpy()"
      ]
    },
    {
      "cell_type": "code",
      "execution_count": 15,
      "metadata": {
        "id": "QzGc6CnPh7yT"
      },
      "outputs": [],
      "source": [
        "democrat_vec = [get_pooled_output(x) for x in democrat]\n",
        "republican_vec = [get_pooled_output(x) for x in republican]\n",
        "neutral_vec = [get_pooled_output(x) for x in neutral]"
      ]
    },
    {
      "cell_type": "code",
      "execution_count": 16,
      "metadata": {
        "id": "zzbVVFnLkuIV"
      },
      "outputs": [],
      "source": [
        "toxic_vec = [get_pooled_output(x) for x in toxic_tweets]\n",
        "non_toxic_vec = [get_pooled_output(x) for x in non_toxic_tweets]"
      ]
    },
    {
      "cell_type": "code",
      "execution_count": 17,
      "metadata": {
        "id": "vubBP8Dm1ctv"
      },
      "outputs": [],
      "source": [
        "# Compute s(w,A,B)\n",
        "def mean_cos(target, attribute_a, attribute_b):\n",
        "  mean_sim_a = np.mean([cosine_similarity(target.reshape(1, -1), a) for a in attribute_a])\n",
        "  mean_sim_b = np.mean([cosine_similarity(target.reshape(1, -1), b) for b in attribute_b])\n",
        "  return mean_sim_a - mean_sim_b"
      ]
    },
    {
      "cell_type": "code",
      "execution_count": 18,
      "metadata": {
        "id": "mmFdrdTgo8TR"
      },
      "outputs": [],
      "source": [
        "def compute_test_stat(target_set_x, target_set_y, attribute_a, attribute_b):\n",
        "  test_stat_x = np.sum([mean_cos(t, attribute_a, attribute_b) for t in target_set_x])\n",
        "  test_stat_y = np.sum([mean_cos(t, attribute_a, attribute_b) for t in target_set_y])\n",
        "  return test_stat_x - test_stat_y"
      ]
    },
    {
      "cell_type": "code",
      "execution_count": 19,
      "metadata": {
        "id": "15d5DFJjqpl4"
      },
      "outputs": [],
      "source": [
        "def effect_size(target_set_x, target_set_y, attribute_a, attribute_b):\n",
        "  effect_size_x = np.mean([mean_cos(t, attribute_a, attribute_b) for t in target_set_x])\n",
        "  effect_size_y = np.mean([mean_cos(t, attribute_a, attribute_b) for t in target_set_y])\n",
        "\n",
        "  target_set_union = np.concatenate((np.array(target_set_x), np.array(target_set_y)))\n",
        "  std_union = np.std([mean_cos(t, attribute_a, attribute_b) for t in target_set_union])\n",
        "\n",
        "  return (effect_size_x - effect_size_y) / std_union\n",
        "\n"
      ]
    },
    {
      "cell_type": "code",
      "execution_count": 20,
      "metadata": {
        "colab": {
          "base_uri": "https://localhost:8080/",
          "height": 200
        },
        "id": "npTJRZ3F-J3j",
        "outputId": "6c899c0b-e99b-49cd-c84a-1e89c0973d5c"
      },
      "outputs": [],
      "source": [
        "def compute_p_val(X, Y, A, B):\n",
        "    total_true, total, convergence = 0, 0, [] \n",
        "    n_samples = 10000\n",
        "    size = len(X)\n",
        "    observed_stat = compute_test_stat(X, Y, A, B)    \n",
        "    XY = np.concatenate((X,Y))\n",
        "    for _ in range(n_samples):\n",
        "        np.random.shuffle(XY)\n",
        "        Xi = XY[:size]\n",
        "        permuted_stat = compute_test_stat(Xi, Y, A, B)\n",
        "        if permuted_stat > observed_stat:\n",
        "            total_true +=1\n",
        "        elif permuted_stat == observed_stat:\n",
        "            total_true +=1\n",
        "        total +=1\n",
        "        convergence.append(total_true/total)\n",
        "\n",
        "    return total_true/total, convergence"
      ]
    },
    {
      "cell_type": "code",
      "execution_count": 22,
      "metadata": {},
      "outputs": [],
      "source": [
        "effect_size_dem_rep = effect_size(democrat_vec, republican_vec, toxic_vec, non_toxic_vec)\n",
        "effect_size_dem_neu = effect_size(democrat_vec, neutral_vec, toxic_vec, non_toxic_vec)\n",
        "effect_size_rep_neu = effect_size(republican_vec, neutral_vec, toxic_vec, non_toxic_vec)\n",
        "\n",
        "p_val_dem_rep, convergence_dem_rep = compute_p_val(democrat_vec, republican_vec, toxic_vec, non_toxic_vec)\n",
        "p_val_dem_neu, convergence_dem_neu = compute_p_val(democrat_vec, neutral_vec, toxic_vec, non_toxic_vec)\n",
        "p_val_rep_neu, convergence_rep_neu = compute_p_val(republican_vec, neutral_vec, toxic_vec, non_toxic_vec)\n",
        "\n",
        "\n",
        "test_stat_dem_rep = compute_test_stat(democrat_vec, republican_vec, toxic_vec, non_toxic_vec)\n",
        "test_stat_dem_neu= compute_test_stat(democrat_vec, neutral_vec, toxic_vec, non_toxic_vec)\n",
        "test_stat_rep_neu = compute_test_stat(republican_vec, neutral_vec, toxic_vec, non_toxic_vec)\n",
        "\n",
        "effect_sizes = [effect_size_dem_rep, effect_size_dem_neu, effect_size_rep_neu]\n",
        "p_values = [p_val_dem_rep, p_val_dem_neu, p_val_rep_neu]\n",
        "test_stats = [test_stat_dem_rep, test_stat_dem_neu, test_stat_rep_neu]"
      ]
    },
    {
      "cell_type": "code",
      "execution_count": null,
      "metadata": {},
      "outputs": [],
      "source": [
        "results = pd.DataFrame({'effect_size': effect_sizes, 'p_value': p_values, 'test_stat': test_stats}, index = ['Democrat Republican', 'Democrat Neutral', 'Republican Neutral'])\n",
        "results"
      ]
    },
    {
      "cell_type": "code",
      "execution_count": null,
      "metadata": {},
      "outputs": [],
      "source": [
        "results.round(4).to_csv(\"data/seat_results.csv\")"
      ]
    }
  ],
  "metadata": {
    "accelerator": "GPU",
    "colab": {
      "gpuType": "T4",
      "provenance": []
    },
    "kernelspec": {
      "display_name": "Python 3",
      "name": "python3"
    },
    "language_info": {
      "codemirror_mode": {
        "name": "ipython",
        "version": 3
      },
      "file_extension": ".py",
      "mimetype": "text/x-python",
      "name": "python",
      "nbconvert_exporter": "python",
      "pygments_lexer": "ipython3",
      "version": "3.11.3"
    },
    "widgets": {
      "application/vnd.jupyter.widget-state+json": {
        "219075c6df2f4a00b9f86128517954ed": {
          "model_module": "@jupyter-widgets/controls",
          "model_module_version": "1.5.0",
          "model_name": "FloatProgressModel",
          "state": {
            "_dom_classes": [],
            "_model_module": "@jupyter-widgets/controls",
            "_model_module_version": "1.5.0",
            "_model_name": "FloatProgressModel",
            "_view_count": null,
            "_view_module": "@jupyter-widgets/controls",
            "_view_module_version": "1.5.0",
            "_view_name": "ProgressView",
            "bar_style": "success",
            "description": "",
            "description_tooltip": null,
            "layout": "IPY_MODEL_8f12e6eb00b34fa29ac70b97fcb02c9f",
            "max": 843438,
            "min": 0,
            "orientation": "horizontal",
            "style": "IPY_MODEL_f26304bd7ef64822b29d0c303741f7d4",
            "value": 843438
          }
        },
        "42ef49462fc145a8849eb18f7f31b367": {
          "model_module": "@jupyter-widgets/controls",
          "model_module_version": "1.5.0",
          "model_name": "HTMLModel",
          "state": {
            "_dom_classes": [],
            "_model_module": "@jupyter-widgets/controls",
            "_model_module_version": "1.5.0",
            "_model_name": "HTMLModel",
            "_view_count": null,
            "_view_module": "@jupyter-widgets/controls",
            "_view_module_version": "1.5.0",
            "_view_name": "HTMLView",
            "description": "",
            "description_tooltip": null,
            "layout": "IPY_MODEL_9b5eed16d9be4e449363167a2214e2d4",
            "placeholder": "​",
            "style": "IPY_MODEL_4c9201433d624793b54965d70a13b4c8",
            "value": " 843k/843k [00:00&lt;00:00, 897kB/s]"
          }
        },
        "4b529ae116964f5ea2704ec3943c63c8": {
          "model_module": "@jupyter-widgets/controls",
          "model_module_version": "1.5.0",
          "model_name": "DescriptionStyleModel",
          "state": {
            "_model_module": "@jupyter-widgets/controls",
            "_model_module_version": "1.5.0",
            "_model_name": "DescriptionStyleModel",
            "_view_count": null,
            "_view_module": "@jupyter-widgets/base",
            "_view_module_version": "1.2.0",
            "_view_name": "StyleView",
            "description_width": ""
          }
        },
        "4bc90587bffa4448a3936db8db0552aa": {
          "model_module": "@jupyter-widgets/controls",
          "model_module_version": "1.5.0",
          "model_name": "ProgressStyleModel",
          "state": {
            "_model_module": "@jupyter-widgets/controls",
            "_model_module_version": "1.5.0",
            "_model_name": "ProgressStyleModel",
            "_view_count": null,
            "_view_module": "@jupyter-widgets/base",
            "_view_module_version": "1.2.0",
            "_view_name": "StyleView",
            "bar_color": null,
            "description_width": ""
          }
        },
        "4c9201433d624793b54965d70a13b4c8": {
          "model_module": "@jupyter-widgets/controls",
          "model_module_version": "1.5.0",
          "model_name": "DescriptionStyleModel",
          "state": {
            "_model_module": "@jupyter-widgets/controls",
            "_model_module_version": "1.5.0",
            "_model_name": "DescriptionStyleModel",
            "_view_count": null,
            "_view_module": "@jupyter-widgets/base",
            "_view_module_version": "1.2.0",
            "_view_name": "StyleView",
            "description_width": ""
          }
        },
        "538773486e8940ebaa879f29df5f1785": {
          "model_module": "@jupyter-widgets/controls",
          "model_module_version": "1.5.0",
          "model_name": "FloatProgressModel",
          "state": {
            "_dom_classes": [],
            "_model_module": "@jupyter-widgets/controls",
            "_model_module_version": "1.5.0",
            "_model_name": "FloatProgressModel",
            "_view_count": null,
            "_view_module": "@jupyter-widgets/controls",
            "_view_module_version": "1.5.0",
            "_view_name": "ProgressView",
            "bar_style": "success",
            "description": "",
            "description_tooltip": null,
            "layout": "IPY_MODEL_dc31acc73b994302a25e68b9db97984e",
            "max": 1078931,
            "min": 0,
            "orientation": "horizontal",
            "style": "IPY_MODEL_4bc90587bffa4448a3936db8db0552aa",
            "value": 1078931
          }
        },
        "6ff9d065914e4463af3b2ccc3fba4b04": {
          "model_module": "@jupyter-widgets/controls",
          "model_module_version": "1.5.0",
          "model_name": "HTMLModel",
          "state": {
            "_dom_classes": [],
            "_model_module": "@jupyter-widgets/controls",
            "_model_module_version": "1.5.0",
            "_model_name": "HTMLModel",
            "_view_count": null,
            "_view_module": "@jupyter-widgets/controls",
            "_view_module_version": "1.5.0",
            "_view_name": "HTMLView",
            "description": "",
            "description_tooltip": null,
            "layout": "IPY_MODEL_d4d789ca741a49f2bc036f2bdb8057e2",
            "placeholder": "​",
            "style": "IPY_MODEL_b9acc380be3746879e07a2e4c8a5949e",
            "value": "Downloading (…)solve/main/bpe.codes: 100%"
          }
        },
        "76417d3ff2a04a238e6512df03d364ef": {
          "model_module": "@jupyter-widgets/controls",
          "model_module_version": "1.5.0",
          "model_name": "HTMLModel",
          "state": {
            "_dom_classes": [],
            "_model_module": "@jupyter-widgets/controls",
            "_model_module_version": "1.5.0",
            "_model_name": "HTMLModel",
            "_view_count": null,
            "_view_module": "@jupyter-widgets/controls",
            "_view_module_version": "1.5.0",
            "_view_name": "HTMLView",
            "description": "",
            "description_tooltip": null,
            "layout": "IPY_MODEL_ddfbaf3961e7402cbb47f1f0cfeb77d4",
            "placeholder": "​",
            "style": "IPY_MODEL_ade0f93ede594725b8b17e49cce02158",
            "value": "Downloading (…)lve/main/config.json: 100%"
          }
        },
        "8eba1fc9a34e4cafb19150784c607d18": {
          "model_module": "@jupyter-widgets/base",
          "model_module_version": "1.2.0",
          "model_name": "LayoutModel",
          "state": {
            "_model_module": "@jupyter-widgets/base",
            "_model_module_version": "1.2.0",
            "_model_name": "LayoutModel",
            "_view_count": null,
            "_view_module": "@jupyter-widgets/base",
            "_view_module_version": "1.2.0",
            "_view_name": "LayoutView",
            "align_content": null,
            "align_items": null,
            "align_self": null,
            "border": null,
            "bottom": null,
            "display": null,
            "flex": null,
            "flex_flow": null,
            "grid_area": null,
            "grid_auto_columns": null,
            "grid_auto_flow": null,
            "grid_auto_rows": null,
            "grid_column": null,
            "grid_gap": null,
            "grid_row": null,
            "grid_template_areas": null,
            "grid_template_columns": null,
            "grid_template_rows": null,
            "height": null,
            "justify_content": null,
            "justify_items": null,
            "left": null,
            "margin": null,
            "max_height": null,
            "max_width": null,
            "min_height": null,
            "min_width": null,
            "object_fit": null,
            "object_position": null,
            "order": null,
            "overflow": null,
            "overflow_x": null,
            "overflow_y": null,
            "padding": null,
            "right": null,
            "top": null,
            "visibility": null,
            "width": null
          }
        },
        "8f12e6eb00b34fa29ac70b97fcb02c9f": {
          "model_module": "@jupyter-widgets/base",
          "model_module_version": "1.2.0",
          "model_name": "LayoutModel",
          "state": {
            "_model_module": "@jupyter-widgets/base",
            "_model_module_version": "1.2.0",
            "_model_name": "LayoutModel",
            "_view_count": null,
            "_view_module": "@jupyter-widgets/base",
            "_view_module_version": "1.2.0",
            "_view_name": "LayoutView",
            "align_content": null,
            "align_items": null,
            "align_self": null,
            "border": null,
            "bottom": null,
            "display": null,
            "flex": null,
            "flex_flow": null,
            "grid_area": null,
            "grid_auto_columns": null,
            "grid_auto_flow": null,
            "grid_auto_rows": null,
            "grid_column": null,
            "grid_gap": null,
            "grid_row": null,
            "grid_template_areas": null,
            "grid_template_columns": null,
            "grid_template_rows": null,
            "height": null,
            "justify_content": null,
            "justify_items": null,
            "left": null,
            "margin": null,
            "max_height": null,
            "max_width": null,
            "min_height": null,
            "min_width": null,
            "object_fit": null,
            "object_position": null,
            "order": null,
            "overflow": null,
            "overflow_x": null,
            "overflow_y": null,
            "padding": null,
            "right": null,
            "top": null,
            "visibility": null,
            "width": null
          }
        },
        "9b35ebb1afae40979c48fa452e4b3d18": {
          "model_module": "@jupyter-widgets/controls",
          "model_module_version": "1.5.0",
          "model_name": "DescriptionStyleModel",
          "state": {
            "_model_module": "@jupyter-widgets/controls",
            "_model_module_version": "1.5.0",
            "_model_name": "DescriptionStyleModel",
            "_view_count": null,
            "_view_module": "@jupyter-widgets/base",
            "_view_module_version": "1.2.0",
            "_view_name": "StyleView",
            "description_width": ""
          }
        },
        "9b5eed16d9be4e449363167a2214e2d4": {
          "model_module": "@jupyter-widgets/base",
          "model_module_version": "1.2.0",
          "model_name": "LayoutModel",
          "state": {
            "_model_module": "@jupyter-widgets/base",
            "_model_module_version": "1.2.0",
            "_model_name": "LayoutModel",
            "_view_count": null,
            "_view_module": "@jupyter-widgets/base",
            "_view_module_version": "1.2.0",
            "_view_name": "LayoutView",
            "align_content": null,
            "align_items": null,
            "align_self": null,
            "border": null,
            "bottom": null,
            "display": null,
            "flex": null,
            "flex_flow": null,
            "grid_area": null,
            "grid_auto_columns": null,
            "grid_auto_flow": null,
            "grid_auto_rows": null,
            "grid_column": null,
            "grid_gap": null,
            "grid_row": null,
            "grid_template_areas": null,
            "grid_template_columns": null,
            "grid_template_rows": null,
            "height": null,
            "justify_content": null,
            "justify_items": null,
            "left": null,
            "margin": null,
            "max_height": null,
            "max_width": null,
            "min_height": null,
            "min_width": null,
            "object_fit": null,
            "object_position": null,
            "order": null,
            "overflow": null,
            "overflow_x": null,
            "overflow_y": null,
            "padding": null,
            "right": null,
            "top": null,
            "visibility": null,
            "width": null
          }
        },
        "9cffa4e8f13146ffabb44b42e7723003": {
          "model_module": "@jupyter-widgets/controls",
          "model_module_version": "1.5.0",
          "model_name": "HTMLModel",
          "state": {
            "_dom_classes": [],
            "_model_module": "@jupyter-widgets/controls",
            "_model_module_version": "1.5.0",
            "_model_name": "HTMLModel",
            "_view_count": null,
            "_view_module": "@jupyter-widgets/controls",
            "_view_module_version": "1.5.0",
            "_view_name": "HTMLView",
            "description": "",
            "description_tooltip": null,
            "layout": "IPY_MODEL_f5ae0b8bdf384751bf135515ea0b1338",
            "placeholder": "​",
            "style": "IPY_MODEL_4b529ae116964f5ea2704ec3943c63c8",
            "value": " 1.08M/1.08M [00:00&lt;00:00, 1.10MB/s]"
          }
        },
        "aa97d7abdeba4963b4b01cdfe9379a88": {
          "model_module": "@jupyter-widgets/controls",
          "model_module_version": "1.5.0",
          "model_name": "ProgressStyleModel",
          "state": {
            "_model_module": "@jupyter-widgets/controls",
            "_model_module_version": "1.5.0",
            "_model_name": "ProgressStyleModel",
            "_view_count": null,
            "_view_module": "@jupyter-widgets/base",
            "_view_module_version": "1.2.0",
            "_view_name": "StyleView",
            "bar_color": null,
            "description_width": ""
          }
        },
        "addf9a6cad1a416da003d16da5e5acfe": {
          "model_module": "@jupyter-widgets/controls",
          "model_module_version": "1.5.0",
          "model_name": "FloatProgressModel",
          "state": {
            "_dom_classes": [],
            "_model_module": "@jupyter-widgets/controls",
            "_model_module_version": "1.5.0",
            "_model_name": "FloatProgressModel",
            "_view_count": null,
            "_view_module": "@jupyter-widgets/controls",
            "_view_module_version": "1.5.0",
            "_view_name": "ProgressView",
            "bar_style": "success",
            "description": "",
            "description_tooltip": null,
            "layout": "IPY_MODEL_dd53b16983da48069008bebd383353b3",
            "max": 558,
            "min": 0,
            "orientation": "horizontal",
            "style": "IPY_MODEL_aa97d7abdeba4963b4b01cdfe9379a88",
            "value": 558
          }
        },
        "ade0f93ede594725b8b17e49cce02158": {
          "model_module": "@jupyter-widgets/controls",
          "model_module_version": "1.5.0",
          "model_name": "DescriptionStyleModel",
          "state": {
            "_model_module": "@jupyter-widgets/controls",
            "_model_module_version": "1.5.0",
            "_model_name": "DescriptionStyleModel",
            "_view_count": null,
            "_view_module": "@jupyter-widgets/base",
            "_view_module_version": "1.2.0",
            "_view_name": "StyleView",
            "description_width": ""
          }
        },
        "b1f11e9657504156b1a56d2ec3130aee": {
          "model_module": "@jupyter-widgets/base",
          "model_module_version": "1.2.0",
          "model_name": "LayoutModel",
          "state": {
            "_model_module": "@jupyter-widgets/base",
            "_model_module_version": "1.2.0",
            "_model_name": "LayoutModel",
            "_view_count": null,
            "_view_module": "@jupyter-widgets/base",
            "_view_module_version": "1.2.0",
            "_view_name": "LayoutView",
            "align_content": null,
            "align_items": null,
            "align_self": null,
            "border": null,
            "bottom": null,
            "display": null,
            "flex": null,
            "flex_flow": null,
            "grid_area": null,
            "grid_auto_columns": null,
            "grid_auto_flow": null,
            "grid_auto_rows": null,
            "grid_column": null,
            "grid_gap": null,
            "grid_row": null,
            "grid_template_areas": null,
            "grid_template_columns": null,
            "grid_template_rows": null,
            "height": null,
            "justify_content": null,
            "justify_items": null,
            "left": null,
            "margin": null,
            "max_height": null,
            "max_width": null,
            "min_height": null,
            "min_width": null,
            "object_fit": null,
            "object_position": null,
            "order": null,
            "overflow": null,
            "overflow_x": null,
            "overflow_y": null,
            "padding": null,
            "right": null,
            "top": null,
            "visibility": null,
            "width": null
          }
        },
        "b8e7f279f0fe4552b10e75ae54f8a771": {
          "model_module": "@jupyter-widgets/controls",
          "model_module_version": "1.5.0",
          "model_name": "HTMLModel",
          "state": {
            "_dom_classes": [],
            "_model_module": "@jupyter-widgets/controls",
            "_model_module_version": "1.5.0",
            "_model_name": "HTMLModel",
            "_view_count": null,
            "_view_module": "@jupyter-widgets/controls",
            "_view_module_version": "1.5.0",
            "_view_name": "HTMLView",
            "description": "",
            "description_tooltip": null,
            "layout": "IPY_MODEL_fb3a2d17c0ee403589a7bb53ed7fc509",
            "placeholder": "​",
            "style": "IPY_MODEL_e08b206684434165b862af76ba87ea24",
            "value": " 558/558 [00:00&lt;00:00, 34.7kB/s]"
          }
        },
        "b9acc380be3746879e07a2e4c8a5949e": {
          "model_module": "@jupyter-widgets/controls",
          "model_module_version": "1.5.0",
          "model_name": "DescriptionStyleModel",
          "state": {
            "_model_module": "@jupyter-widgets/controls",
            "_model_module_version": "1.5.0",
            "_model_name": "DescriptionStyleModel",
            "_view_count": null,
            "_view_module": "@jupyter-widgets/base",
            "_view_module_version": "1.2.0",
            "_view_name": "StyleView",
            "description_width": ""
          }
        },
        "bc66296078b94c318e5b21d496922423": {
          "model_module": "@jupyter-widgets/base",
          "model_module_version": "1.2.0",
          "model_name": "LayoutModel",
          "state": {
            "_model_module": "@jupyter-widgets/base",
            "_model_module_version": "1.2.0",
            "_model_name": "LayoutModel",
            "_view_count": null,
            "_view_module": "@jupyter-widgets/base",
            "_view_module_version": "1.2.0",
            "_view_name": "LayoutView",
            "align_content": null,
            "align_items": null,
            "align_self": null,
            "border": null,
            "bottom": null,
            "display": null,
            "flex": null,
            "flex_flow": null,
            "grid_area": null,
            "grid_auto_columns": null,
            "grid_auto_flow": null,
            "grid_auto_rows": null,
            "grid_column": null,
            "grid_gap": null,
            "grid_row": null,
            "grid_template_areas": null,
            "grid_template_columns": null,
            "grid_template_rows": null,
            "height": null,
            "justify_content": null,
            "justify_items": null,
            "left": null,
            "margin": null,
            "max_height": null,
            "max_width": null,
            "min_height": null,
            "min_width": null,
            "object_fit": null,
            "object_position": null,
            "order": null,
            "overflow": null,
            "overflow_x": null,
            "overflow_y": null,
            "padding": null,
            "right": null,
            "top": null,
            "visibility": null,
            "width": null
          }
        },
        "c02775819d014388b80301d1df2614a6": {
          "model_module": "@jupyter-widgets/controls",
          "model_module_version": "1.5.0",
          "model_name": "HBoxModel",
          "state": {
            "_dom_classes": [],
            "_model_module": "@jupyter-widgets/controls",
            "_model_module_version": "1.5.0",
            "_model_name": "HBoxModel",
            "_view_count": null,
            "_view_module": "@jupyter-widgets/controls",
            "_view_module_version": "1.5.0",
            "_view_name": "HBoxView",
            "box_style": "",
            "children": [
              "IPY_MODEL_6ff9d065914e4463af3b2ccc3fba4b04",
              "IPY_MODEL_538773486e8940ebaa879f29df5f1785",
              "IPY_MODEL_9cffa4e8f13146ffabb44b42e7723003"
            ],
            "layout": "IPY_MODEL_b1f11e9657504156b1a56d2ec3130aee"
          }
        },
        "d35e5e7262f54484a0a6911a7c7401a2": {
          "model_module": "@jupyter-widgets/base",
          "model_module_version": "1.2.0",
          "model_name": "LayoutModel",
          "state": {
            "_model_module": "@jupyter-widgets/base",
            "_model_module_version": "1.2.0",
            "_model_name": "LayoutModel",
            "_view_count": null,
            "_view_module": "@jupyter-widgets/base",
            "_view_module_version": "1.2.0",
            "_view_name": "LayoutView",
            "align_content": null,
            "align_items": null,
            "align_self": null,
            "border": null,
            "bottom": null,
            "display": null,
            "flex": null,
            "flex_flow": null,
            "grid_area": null,
            "grid_auto_columns": null,
            "grid_auto_flow": null,
            "grid_auto_rows": null,
            "grid_column": null,
            "grid_gap": null,
            "grid_row": null,
            "grid_template_areas": null,
            "grid_template_columns": null,
            "grid_template_rows": null,
            "height": null,
            "justify_content": null,
            "justify_items": null,
            "left": null,
            "margin": null,
            "max_height": null,
            "max_width": null,
            "min_height": null,
            "min_width": null,
            "object_fit": null,
            "object_position": null,
            "order": null,
            "overflow": null,
            "overflow_x": null,
            "overflow_y": null,
            "padding": null,
            "right": null,
            "top": null,
            "visibility": null,
            "width": null
          }
        },
        "d4d789ca741a49f2bc036f2bdb8057e2": {
          "model_module": "@jupyter-widgets/base",
          "model_module_version": "1.2.0",
          "model_name": "LayoutModel",
          "state": {
            "_model_module": "@jupyter-widgets/base",
            "_model_module_version": "1.2.0",
            "_model_name": "LayoutModel",
            "_view_count": null,
            "_view_module": "@jupyter-widgets/base",
            "_view_module_version": "1.2.0",
            "_view_name": "LayoutView",
            "align_content": null,
            "align_items": null,
            "align_self": null,
            "border": null,
            "bottom": null,
            "display": null,
            "flex": null,
            "flex_flow": null,
            "grid_area": null,
            "grid_auto_columns": null,
            "grid_auto_flow": null,
            "grid_auto_rows": null,
            "grid_column": null,
            "grid_gap": null,
            "grid_row": null,
            "grid_template_areas": null,
            "grid_template_columns": null,
            "grid_template_rows": null,
            "height": null,
            "justify_content": null,
            "justify_items": null,
            "left": null,
            "margin": null,
            "max_height": null,
            "max_width": null,
            "min_height": null,
            "min_width": null,
            "object_fit": null,
            "object_position": null,
            "order": null,
            "overflow": null,
            "overflow_x": null,
            "overflow_y": null,
            "padding": null,
            "right": null,
            "top": null,
            "visibility": null,
            "width": null
          }
        },
        "dc31acc73b994302a25e68b9db97984e": {
          "model_module": "@jupyter-widgets/base",
          "model_module_version": "1.2.0",
          "model_name": "LayoutModel",
          "state": {
            "_model_module": "@jupyter-widgets/base",
            "_model_module_version": "1.2.0",
            "_model_name": "LayoutModel",
            "_view_count": null,
            "_view_module": "@jupyter-widgets/base",
            "_view_module_version": "1.2.0",
            "_view_name": "LayoutView",
            "align_content": null,
            "align_items": null,
            "align_self": null,
            "border": null,
            "bottom": null,
            "display": null,
            "flex": null,
            "flex_flow": null,
            "grid_area": null,
            "grid_auto_columns": null,
            "grid_auto_flow": null,
            "grid_auto_rows": null,
            "grid_column": null,
            "grid_gap": null,
            "grid_row": null,
            "grid_template_areas": null,
            "grid_template_columns": null,
            "grid_template_rows": null,
            "height": null,
            "justify_content": null,
            "justify_items": null,
            "left": null,
            "margin": null,
            "max_height": null,
            "max_width": null,
            "min_height": null,
            "min_width": null,
            "object_fit": null,
            "object_position": null,
            "order": null,
            "overflow": null,
            "overflow_x": null,
            "overflow_y": null,
            "padding": null,
            "right": null,
            "top": null,
            "visibility": null,
            "width": null
          }
        },
        "dd53b16983da48069008bebd383353b3": {
          "model_module": "@jupyter-widgets/base",
          "model_module_version": "1.2.0",
          "model_name": "LayoutModel",
          "state": {
            "_model_module": "@jupyter-widgets/base",
            "_model_module_version": "1.2.0",
            "_model_name": "LayoutModel",
            "_view_count": null,
            "_view_module": "@jupyter-widgets/base",
            "_view_module_version": "1.2.0",
            "_view_name": "LayoutView",
            "align_content": null,
            "align_items": null,
            "align_self": null,
            "border": null,
            "bottom": null,
            "display": null,
            "flex": null,
            "flex_flow": null,
            "grid_area": null,
            "grid_auto_columns": null,
            "grid_auto_flow": null,
            "grid_auto_rows": null,
            "grid_column": null,
            "grid_gap": null,
            "grid_row": null,
            "grid_template_areas": null,
            "grid_template_columns": null,
            "grid_template_rows": null,
            "height": null,
            "justify_content": null,
            "justify_items": null,
            "left": null,
            "margin": null,
            "max_height": null,
            "max_width": null,
            "min_height": null,
            "min_width": null,
            "object_fit": null,
            "object_position": null,
            "order": null,
            "overflow": null,
            "overflow_x": null,
            "overflow_y": null,
            "padding": null,
            "right": null,
            "top": null,
            "visibility": null,
            "width": null
          }
        },
        "ddfbaf3961e7402cbb47f1f0cfeb77d4": {
          "model_module": "@jupyter-widgets/base",
          "model_module_version": "1.2.0",
          "model_name": "LayoutModel",
          "state": {
            "_model_module": "@jupyter-widgets/base",
            "_model_module_version": "1.2.0",
            "_model_name": "LayoutModel",
            "_view_count": null,
            "_view_module": "@jupyter-widgets/base",
            "_view_module_version": "1.2.0",
            "_view_name": "LayoutView",
            "align_content": null,
            "align_items": null,
            "align_self": null,
            "border": null,
            "bottom": null,
            "display": null,
            "flex": null,
            "flex_flow": null,
            "grid_area": null,
            "grid_auto_columns": null,
            "grid_auto_flow": null,
            "grid_auto_rows": null,
            "grid_column": null,
            "grid_gap": null,
            "grid_row": null,
            "grid_template_areas": null,
            "grid_template_columns": null,
            "grid_template_rows": null,
            "height": null,
            "justify_content": null,
            "justify_items": null,
            "left": null,
            "margin": null,
            "max_height": null,
            "max_width": null,
            "min_height": null,
            "min_width": null,
            "object_fit": null,
            "object_position": null,
            "order": null,
            "overflow": null,
            "overflow_x": null,
            "overflow_y": null,
            "padding": null,
            "right": null,
            "top": null,
            "visibility": null,
            "width": null
          }
        },
        "de1122773dd644498f277f16f8b2cce7": {
          "model_module": "@jupyter-widgets/controls",
          "model_module_version": "1.5.0",
          "model_name": "HBoxModel",
          "state": {
            "_dom_classes": [],
            "_model_module": "@jupyter-widgets/controls",
            "_model_module_version": "1.5.0",
            "_model_name": "HBoxModel",
            "_view_count": null,
            "_view_module": "@jupyter-widgets/controls",
            "_view_module_version": "1.5.0",
            "_view_name": "HBoxView",
            "box_style": "",
            "children": [
              "IPY_MODEL_df6fd47bb669446ab1707f3589edae41",
              "IPY_MODEL_219075c6df2f4a00b9f86128517954ed",
              "IPY_MODEL_42ef49462fc145a8849eb18f7f31b367"
            ],
            "layout": "IPY_MODEL_bc66296078b94c318e5b21d496922423"
          }
        },
        "df6fd47bb669446ab1707f3589edae41": {
          "model_module": "@jupyter-widgets/controls",
          "model_module_version": "1.5.0",
          "model_name": "HTMLModel",
          "state": {
            "_dom_classes": [],
            "_model_module": "@jupyter-widgets/controls",
            "_model_module_version": "1.5.0",
            "_model_name": "HTMLModel",
            "_view_count": null,
            "_view_module": "@jupyter-widgets/controls",
            "_view_module_version": "1.5.0",
            "_view_name": "HTMLView",
            "description": "",
            "description_tooltip": null,
            "layout": "IPY_MODEL_8eba1fc9a34e4cafb19150784c607d18",
            "placeholder": "​",
            "style": "IPY_MODEL_9b35ebb1afae40979c48fa452e4b3d18",
            "value": "Downloading (…)solve/main/vocab.txt: 100%"
          }
        },
        "e08b206684434165b862af76ba87ea24": {
          "model_module": "@jupyter-widgets/controls",
          "model_module_version": "1.5.0",
          "model_name": "DescriptionStyleModel",
          "state": {
            "_model_module": "@jupyter-widgets/controls",
            "_model_module_version": "1.5.0",
            "_model_name": "DescriptionStyleModel",
            "_view_count": null,
            "_view_module": "@jupyter-widgets/base",
            "_view_module_version": "1.2.0",
            "_view_name": "StyleView",
            "description_width": ""
          }
        },
        "f26304bd7ef64822b29d0c303741f7d4": {
          "model_module": "@jupyter-widgets/controls",
          "model_module_version": "1.5.0",
          "model_name": "ProgressStyleModel",
          "state": {
            "_model_module": "@jupyter-widgets/controls",
            "_model_module_version": "1.5.0",
            "_model_name": "ProgressStyleModel",
            "_view_count": null,
            "_view_module": "@jupyter-widgets/base",
            "_view_module_version": "1.2.0",
            "_view_name": "StyleView",
            "bar_color": null,
            "description_width": ""
          }
        },
        "f5ae0b8bdf384751bf135515ea0b1338": {
          "model_module": "@jupyter-widgets/base",
          "model_module_version": "1.2.0",
          "model_name": "LayoutModel",
          "state": {
            "_model_module": "@jupyter-widgets/base",
            "_model_module_version": "1.2.0",
            "_model_name": "LayoutModel",
            "_view_count": null,
            "_view_module": "@jupyter-widgets/base",
            "_view_module_version": "1.2.0",
            "_view_name": "LayoutView",
            "align_content": null,
            "align_items": null,
            "align_self": null,
            "border": null,
            "bottom": null,
            "display": null,
            "flex": null,
            "flex_flow": null,
            "grid_area": null,
            "grid_auto_columns": null,
            "grid_auto_flow": null,
            "grid_auto_rows": null,
            "grid_column": null,
            "grid_gap": null,
            "grid_row": null,
            "grid_template_areas": null,
            "grid_template_columns": null,
            "grid_template_rows": null,
            "height": null,
            "justify_content": null,
            "justify_items": null,
            "left": null,
            "margin": null,
            "max_height": null,
            "max_width": null,
            "min_height": null,
            "min_width": null,
            "object_fit": null,
            "object_position": null,
            "order": null,
            "overflow": null,
            "overflow_x": null,
            "overflow_y": null,
            "padding": null,
            "right": null,
            "top": null,
            "visibility": null,
            "width": null
          }
        },
        "f90e8cf8aab34cb68de44b7a7a7301ef": {
          "model_module": "@jupyter-widgets/controls",
          "model_module_version": "1.5.0",
          "model_name": "HBoxModel",
          "state": {
            "_dom_classes": [],
            "_model_module": "@jupyter-widgets/controls",
            "_model_module_version": "1.5.0",
            "_model_name": "HBoxModel",
            "_view_count": null,
            "_view_module": "@jupyter-widgets/controls",
            "_view_module_version": "1.5.0",
            "_view_name": "HBoxView",
            "box_style": "",
            "children": [
              "IPY_MODEL_76417d3ff2a04a238e6512df03d364ef",
              "IPY_MODEL_addf9a6cad1a416da003d16da5e5acfe",
              "IPY_MODEL_b8e7f279f0fe4552b10e75ae54f8a771"
            ],
            "layout": "IPY_MODEL_d35e5e7262f54484a0a6911a7c7401a2"
          }
        },
        "fb3a2d17c0ee403589a7bb53ed7fc509": {
          "model_module": "@jupyter-widgets/base",
          "model_module_version": "1.2.0",
          "model_name": "LayoutModel",
          "state": {
            "_model_module": "@jupyter-widgets/base",
            "_model_module_version": "1.2.0",
            "_model_name": "LayoutModel",
            "_view_count": null,
            "_view_module": "@jupyter-widgets/base",
            "_view_module_version": "1.2.0",
            "_view_name": "LayoutView",
            "align_content": null,
            "align_items": null,
            "align_self": null,
            "border": null,
            "bottom": null,
            "display": null,
            "flex": null,
            "flex_flow": null,
            "grid_area": null,
            "grid_auto_columns": null,
            "grid_auto_flow": null,
            "grid_auto_rows": null,
            "grid_column": null,
            "grid_gap": null,
            "grid_row": null,
            "grid_template_areas": null,
            "grid_template_columns": null,
            "grid_template_rows": null,
            "height": null,
            "justify_content": null,
            "justify_items": null,
            "left": null,
            "margin": null,
            "max_height": null,
            "max_width": null,
            "min_height": null,
            "min_width": null,
            "object_fit": null,
            "object_position": null,
            "order": null,
            "overflow": null,
            "overflow_x": null,
            "overflow_y": null,
            "padding": null,
            "right": null,
            "top": null,
            "visibility": null,
            "width": null
          }
        }
      }
    }
  },
  "nbformat": 4,
  "nbformat_minor": 0
}
